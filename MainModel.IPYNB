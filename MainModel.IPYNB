{
 "cells": [
  {
   "cell_type": "code",
   "execution_count": 97,
   "metadata": {},
   "outputs": [],
   "source": [
    "import pandas as pd\n",
    "import numpy as np"
   ]
  },
  {
   "cell_type": "code",
   "execution_count": 98,
   "metadata": {},
   "outputs": [],
   "source": [
    "data=pd.read_csv('data_5000.csv')"
   ]
  },
  {
   "cell_type": "code",
   "execution_count": 99,
   "metadata": {},
   "outputs": [],
   "source": [
    "data=data.sample(5000)"
   ]
  },
  {
   "cell_type": "code",
   "execution_count": 100,
   "metadata": {},
   "outputs": [
    {
     "data": {
      "text/html": [
       "<div>\n",
       "<style scoped>\n",
       "    .dataframe tbody tr th:only-of-type {\n",
       "        vertical-align: middle;\n",
       "    }\n",
       "\n",
       "    .dataframe tbody tr th {\n",
       "        vertical-align: top;\n",
       "    }\n",
       "\n",
       "    .dataframe thead th {\n",
       "        text-align: right;\n",
       "    }\n",
       "</style>\n",
       "<table border=\"1\" class=\"dataframe\">\n",
       "  <thead>\n",
       "    <tr style=\"text-align: right;\">\n",
       "      <th></th>\n",
       "      <th>Unnamed: 0</th>\n",
       "      <th>PRODUCT_ID</th>\n",
       "      <th>TITLE</th>\n",
       "      <th>BULLET_POINTS</th>\n",
       "      <th>DESCRIPTION</th>\n",
       "      <th>PRODUCT_TYPE_ID</th>\n",
       "      <th>PRODUCT_LENGTH</th>\n",
       "    </tr>\n",
       "  </thead>\n",
       "  <tbody>\n",
       "    <tr>\n",
       "      <th>685</th>\n",
       "      <td>359854</td>\n",
       "      <td>1540106</td>\n",
       "      <td>Skechers Flex Appeal 3.0 Goal Getter Womens Sl...</td>\n",
       "      <td>[Rubber sole,Cross train in sporty clean style...</td>\n",
       "      <td>*Cross train in sporty clean style and cool fl...</td>\n",
       "      <td>3302</td>\n",
       "      <td>500.000</td>\n",
       "    </tr>\n",
       "    <tr>\n",
       "      <th>2733</th>\n",
       "      <td>164819</td>\n",
       "      <td>328529</td>\n",
       "      <td>Eternity: (Captivity Book 3)</td>\n",
       "      <td>NaN</td>\n",
       "      <td>NaN</td>\n",
       "      <td>104</td>\n",
       "      <td>500.000</td>\n",
       "    </tr>\n",
       "    <tr>\n",
       "      <th>1572</th>\n",
       "      <td>1172171</td>\n",
       "      <td>488899</td>\n",
       "      <td>Apparent Heirs</td>\n",
       "      <td>NaN</td>\n",
       "      <td>NaN</td>\n",
       "      <td>6104</td>\n",
       "      <td>600.000</td>\n",
       "    </tr>\n",
       "    <tr>\n",
       "      <th>1848</th>\n",
       "      <td>718724</td>\n",
       "      <td>835378</td>\n",
       "      <td>Hickory Hardware P794-NM 3-Inch Woodgrain Pull...</td>\n",
       "      <td>[Type: Pull,Finish: Natural Maple (NM),Family:...</td>\n",
       "      <td>Type: Pull Finish: Natural Maple (NM) Family: ...</td>\n",
       "      <td>10192</td>\n",
       "      <td>580.000</td>\n",
       "    </tr>\n",
       "    <tr>\n",
       "      <th>751</th>\n",
       "      <td>2144507</td>\n",
       "      <td>1551399</td>\n",
       "      <td>Case Creation Black Leather case for Samsung N...</td>\n",
       "      <td>[Highly Shock Proof :- Made Of High Quality Ma...</td>\n",
       "      <td>&lt;ul&gt;&lt;b&gt;Case Creation&lt;/b&gt; is an India registere...</td>\n",
       "      <td>12064</td>\n",
       "      <td>59.055</td>\n",
       "    </tr>\n",
       "  </tbody>\n",
       "</table>\n",
       "</div>"
      ],
      "text/plain": [
       "      Unnamed: 0  PRODUCT_ID  \\\n",
       "685       359854     1540106   \n",
       "2733      164819      328529   \n",
       "1572     1172171      488899   \n",
       "1848      718724      835378   \n",
       "751      2144507     1551399   \n",
       "\n",
       "                                                  TITLE  \\\n",
       "685   Skechers Flex Appeal 3.0 Goal Getter Womens Sl...   \n",
       "2733                       Eternity: (Captivity Book 3)   \n",
       "1572                                     Apparent Heirs   \n",
       "1848  Hickory Hardware P794-NM 3-Inch Woodgrain Pull...   \n",
       "751   Case Creation Black Leather case for Samsung N...   \n",
       "\n",
       "                                          BULLET_POINTS  \\\n",
       "685   [Rubber sole,Cross train in sporty clean style...   \n",
       "2733                                                NaN   \n",
       "1572                                                NaN   \n",
       "1848  [Type: Pull,Finish: Natural Maple (NM),Family:...   \n",
       "751   [Highly Shock Proof :- Made Of High Quality Ma...   \n",
       "\n",
       "                                            DESCRIPTION  PRODUCT_TYPE_ID  \\\n",
       "685   *Cross train in sporty clean style and cool fl...             3302   \n",
       "2733                                                NaN              104   \n",
       "1572                                                NaN             6104   \n",
       "1848  Type: Pull Finish: Natural Maple (NM) Family: ...            10192   \n",
       "751   <ul><b>Case Creation</b> is an India registere...            12064   \n",
       "\n",
       "      PRODUCT_LENGTH  \n",
       "685          500.000  \n",
       "2733         500.000  \n",
       "1572         600.000  \n",
       "1848         580.000  \n",
       "751           59.055  "
      ]
     },
     "execution_count": 100,
     "metadata": {},
     "output_type": "execute_result"
    }
   ],
   "source": [
    "data.head(5)"
   ]
  },
  {
   "cell_type": "code",
   "execution_count": 101,
   "metadata": {},
   "outputs": [
    {
     "data": {
      "text/html": [
       "<div>\n",
       "<style scoped>\n",
       "    .dataframe tbody tr th:only-of-type {\n",
       "        vertical-align: middle;\n",
       "    }\n",
       "\n",
       "    .dataframe tbody tr th {\n",
       "        vertical-align: top;\n",
       "    }\n",
       "\n",
       "    .dataframe thead th {\n",
       "        text-align: right;\n",
       "    }\n",
       "</style>\n",
       "<table border=\"1\" class=\"dataframe\">\n",
       "  <thead>\n",
       "    <tr style=\"text-align: right;\">\n",
       "      <th></th>\n",
       "      <th>Unnamed: 0</th>\n",
       "      <th>PRODUCT_ID</th>\n",
       "      <th>TITLE</th>\n",
       "      <th>BULLET_POINTS</th>\n",
       "      <th>DESCRIPTION</th>\n",
       "      <th>PRODUCT_TYPE_ID</th>\n",
       "      <th>PRODUCT_LENGTH</th>\n",
       "    </tr>\n",
       "  </thead>\n",
       "  <tbody>\n",
       "    <tr>\n",
       "      <th>685</th>\n",
       "      <td>359854</td>\n",
       "      <td>1540106</td>\n",
       "      <td>Skechers Flex Appeal 3.0 Goal Getter Womens Sl...</td>\n",
       "      <td>[Rubber sole,Cross train in sporty clean style...</td>\n",
       "      <td>*Cross train in sporty clean style and cool fl...</td>\n",
       "      <td>3302</td>\n",
       "      <td>500.000000</td>\n",
       "    </tr>\n",
       "    <tr>\n",
       "      <th>1848</th>\n",
       "      <td>718724</td>\n",
       "      <td>835378</td>\n",
       "      <td>Hickory Hardware P794-NM 3-Inch Woodgrain Pull...</td>\n",
       "      <td>[Type: Pull,Finish: Natural Maple (NM),Family:...</td>\n",
       "      <td>Type: Pull Finish: Natural Maple (NM) Family: ...</td>\n",
       "      <td>10192</td>\n",
       "      <td>580.000000</td>\n",
       "    </tr>\n",
       "    <tr>\n",
       "      <th>751</th>\n",
       "      <td>2144507</td>\n",
       "      <td>1551399</td>\n",
       "      <td>Case Creation Black Leather case for Samsung N...</td>\n",
       "      <td>[Highly Shock Proof :- Made Of High Quality Ma...</td>\n",
       "      <td>&lt;ul&gt;&lt;b&gt;Case Creation&lt;/b&gt; is an India registere...</td>\n",
       "      <td>12064</td>\n",
       "      <td>59.055000</td>\n",
       "    </tr>\n",
       "    <tr>\n",
       "      <th>4430</th>\n",
       "      <td>786423</td>\n",
       "      <td>2276264</td>\n",
       "      <td>S R Enterprise Kitchen Stainless Steel Potato ...</td>\n",
       "      <td>[Mashing shouldn't hurt your hand or be diffic...</td>\n",
       "      <td>Kitchen Tools -Stainless Steel Potato Masher, ...</td>\n",
       "      <td>1490</td>\n",
       "      <td>157.480315</td>\n",
       "    </tr>\n",
       "    <tr>\n",
       "      <th>1196</th>\n",
       "      <td>1836320</td>\n",
       "      <td>2565869</td>\n",
       "      <td>SEMAPHORE Double Ring With Glass Ball Solar Ca...</td>\n",
       "      <td>[Upgraded version of 360 degree fragrance is b...</td>\n",
       "      <td>The essential oil is blended with professional...</td>\n",
       "      <td>7328</td>\n",
       "      <td>314.960630</td>\n",
       "    </tr>\n",
       "    <tr>\n",
       "      <th>...</th>\n",
       "      <td>...</td>\n",
       "      <td>...</td>\n",
       "      <td>...</td>\n",
       "      <td>...</td>\n",
       "      <td>...</td>\n",
       "      <td>...</td>\n",
       "      <td>...</td>\n",
       "    </tr>\n",
       "    <tr>\n",
       "      <th>2060</th>\n",
       "      <td>143762</td>\n",
       "      <td>2725297</td>\n",
       "      <td>Y YUPHORIA Printed QUTE-Mini CAT Soft Designer...</td>\n",
       "      <td>[Material : Premium Class Silicone Back Cover....</td>\n",
       "      <td>Y Today’s lifestyle is incomplete without cell...</td>\n",
       "      <td>12064</td>\n",
       "      <td>314.960630</td>\n",
       "    </tr>\n",
       "    <tr>\n",
       "      <th>1699</th>\n",
       "      <td>1081988</td>\n",
       "      <td>957887</td>\n",
       "      <td>Isotoner Women's Terry Ballerina Multi Stripes...</td>\n",
       "      <td>[Supremely soft slippers: Cotton-blend plush t...</td>\n",
       "      <td>Ballerina bliss! These specially designed ball...</td>\n",
       "      <td>3291</td>\n",
       "      <td>1000.000000</td>\n",
       "    </tr>\n",
       "    <tr>\n",
       "      <th>4289</th>\n",
       "      <td>921105</td>\n",
       "      <td>2778770</td>\n",
       "      <td>GlobalNiche® Plastic Adjustable Angle Sprinkle...</td>\n",
       "      <td>[Good quality and Suitable to use.,High Qualit...</td>\n",
       "      <td>GlobalNiche Plastic Adjustable Angle Sprinkler...</td>\n",
       "      <td>5765</td>\n",
       "      <td>393.700787</td>\n",
       "    </tr>\n",
       "    <tr>\n",
       "      <th>839</th>\n",
       "      <td>1460366</td>\n",
       "      <td>2087914</td>\n",
       "      <td>MS Wood Furniture Sheesham Solid Wood Platform...</td>\n",
       "      <td>[Product Dimension: Length 72 inch x Width 88 ...</td>\n",
       "      <td>MS WOOD FURNITURE Is A Well Known Brand In Fur...</td>\n",
       "      <td>8302</td>\n",
       "      <td>7199.999993</td>\n",
       "    </tr>\n",
       "    <tr>\n",
       "      <th>3290</th>\n",
       "      <td>623399</td>\n",
       "      <td>1434511</td>\n",
       "      <td>VINCI Men's 5 Button Single Breasted Classic F...</td>\n",
       "      <td>[Vinci Men's Wool Feel 5 Button Single Breaste...</td>\n",
       "      <td>Vinci Men's 5 Button Single Breasted Solid Col...</td>\n",
       "      <td>2867</td>\n",
       "      <td>590.551180</td>\n",
       "    </tr>\n",
       "  </tbody>\n",
       "</table>\n",
       "<p>2309 rows × 7 columns</p>\n",
       "</div>"
      ],
      "text/plain": [
       "      Unnamed: 0  PRODUCT_ID  \\\n",
       "685       359854     1540106   \n",
       "1848      718724      835378   \n",
       "751      2144507     1551399   \n",
       "4430      786423     2276264   \n",
       "1196     1836320     2565869   \n",
       "...          ...         ...   \n",
       "2060      143762     2725297   \n",
       "1699     1081988      957887   \n",
       "4289      921105     2778770   \n",
       "839      1460366     2087914   \n",
       "3290      623399     1434511   \n",
       "\n",
       "                                                  TITLE  \\\n",
       "685   Skechers Flex Appeal 3.0 Goal Getter Womens Sl...   \n",
       "1848  Hickory Hardware P794-NM 3-Inch Woodgrain Pull...   \n",
       "751   Case Creation Black Leather case for Samsung N...   \n",
       "4430  S R Enterprise Kitchen Stainless Steel Potato ...   \n",
       "1196  SEMAPHORE Double Ring With Glass Ball Solar Ca...   \n",
       "...                                                 ...   \n",
       "2060  Y YUPHORIA Printed QUTE-Mini CAT Soft Designer...   \n",
       "1699  Isotoner Women's Terry Ballerina Multi Stripes...   \n",
       "4289  GlobalNiche® Plastic Adjustable Angle Sprinkle...   \n",
       "839   MS Wood Furniture Sheesham Solid Wood Platform...   \n",
       "3290  VINCI Men's 5 Button Single Breasted Classic F...   \n",
       "\n",
       "                                          BULLET_POINTS  \\\n",
       "685   [Rubber sole,Cross train in sporty clean style...   \n",
       "1848  [Type: Pull,Finish: Natural Maple (NM),Family:...   \n",
       "751   [Highly Shock Proof :- Made Of High Quality Ma...   \n",
       "4430  [Mashing shouldn't hurt your hand or be diffic...   \n",
       "1196  [Upgraded version of 360 degree fragrance is b...   \n",
       "...                                                 ...   \n",
       "2060  [Material : Premium Class Silicone Back Cover....   \n",
       "1699  [Supremely soft slippers: Cotton-blend plush t...   \n",
       "4289  [Good quality and Suitable to use.,High Qualit...   \n",
       "839   [Product Dimension: Length 72 inch x Width 88 ...   \n",
       "3290  [Vinci Men's Wool Feel 5 Button Single Breaste...   \n",
       "\n",
       "                                            DESCRIPTION  PRODUCT_TYPE_ID  \\\n",
       "685   *Cross train in sporty clean style and cool fl...             3302   \n",
       "1848  Type: Pull Finish: Natural Maple (NM) Family: ...            10192   \n",
       "751   <ul><b>Case Creation</b> is an India registere...            12064   \n",
       "4430  Kitchen Tools -Stainless Steel Potato Masher, ...             1490   \n",
       "1196  The essential oil is blended with professional...             7328   \n",
       "...                                                 ...              ...   \n",
       "2060  Y Today’s lifestyle is incomplete without cell...            12064   \n",
       "1699  Ballerina bliss! These specially designed ball...             3291   \n",
       "4289  GlobalNiche Plastic Adjustable Angle Sprinkler...             5765   \n",
       "839   MS WOOD FURNITURE Is A Well Known Brand In Fur...             8302   \n",
       "3290  Vinci Men's 5 Button Single Breasted Solid Col...             2867   \n",
       "\n",
       "      PRODUCT_LENGTH  \n",
       "685       500.000000  \n",
       "1848      580.000000  \n",
       "751        59.055000  \n",
       "4430      157.480315  \n",
       "1196      314.960630  \n",
       "...              ...  \n",
       "2060      314.960630  \n",
       "1699     1000.000000  \n",
       "4289      393.700787  \n",
       "839      7199.999993  \n",
       "3290      590.551180  \n",
       "\n",
       "[2309 rows x 7 columns]"
      ]
     },
     "execution_count": 101,
     "metadata": {},
     "output_type": "execute_result"
    }
   ],
   "source": [
    "data.dropna()"
   ]
  },
  {
   "cell_type": "code",
   "execution_count": 102,
   "metadata": {},
   "outputs": [
    {
     "data": {
      "text/plain": [
       "0"
      ]
     },
     "execution_count": 102,
     "metadata": {},
     "output_type": "execute_result"
    }
   ],
   "source": [
    "data['TITLE'].isnull().sum()"
   ]
  },
  {
   "cell_type": "code",
   "execution_count": 103,
   "metadata": {},
   "outputs": [],
   "source": [
    "data.fillna(\" \",inplace=True)"
   ]
  },
  {
   "cell_type": "code",
   "execution_count": 104,
   "metadata": {},
   "outputs": [],
   "source": [
    "data['TAGS']=data['TITLE'].astype(str)+\" \"+data['BULLET_POINTS'].astype(str)+\" \"+data['DESCRIPTION'].astype(str)\n"
   ]
  },
  {
   "cell_type": "code",
   "execution_count": 105,
   "metadata": {},
   "outputs": [],
   "source": [
    "data['TAGS'] = data['TAGS'].astype(str)\n"
   ]
  },
  {
   "cell_type": "code",
   "execution_count": 106,
   "metadata": {},
   "outputs": [],
   "source": [
    "import re\n",
    "import nltk\n",
    "from nltk.stem import PorterStemmer\n",
    "from nltk.corpus import stopwords\n",
    "stop_words = set(stopwords.words('english'))\n",
    "from sklearn.feature_extraction.text import CountVectorizer\n",
    "from sklearn.linear_model import LinearRegression\n",
    "# nltk.download('punkt')\n",
    "# nltk.download('averaged_perceptron_tagger')"
   ]
  },
  {
   "cell_type": "code",
   "execution_count": 107,
   "metadata": {},
   "outputs": [],
   "source": [
    "stemmer = PorterStemmer()"
   ]
  },
  {
   "cell_type": "code",
   "execution_count": 108,
   "metadata": {},
   "outputs": [],
   "source": [
    "data['TAGS']=data['TAGS'].apply(lambda x: x.lower())"
   ]
  },
  {
   "attachments": {},
   "cell_type": "markdown",
   "metadata": {},
   "source": [
    "The code defines a function called `dirtRemover` that takes a text input and performs several text preprocessing steps to clean and normalize the text. \n",
    "\n",
    "First, it replaces all non-alphanumeric characters (excluding spaces) with an empty string and replaces multiple spaces with a single space. Then, it removes all numeric characters from the text. After that, it removes all punctuation characters defined in the `dirt` list, replacing underscores with empty strings. \n",
    "\n",
    "Next, it performs Part-Of-Speech (POS) tagging using the Natural Language Toolkit (nltk) library, specifically the `pos_tag()` function, which tags each word in the text with its grammatical category (e.g., noun, verb, adjective). The function then filters out all words that are not nouns (i.e., POS tags that are not 'NN' or 'NNS').\n",
    "\n",
    "The function also removes stop words, which are commonly used words that do not carry much meaning (e.g., \"the\", \"a\", \"an\"), and removes all dirt words defined in the `dirt` list. Finally, it performs stemming on the remaining words using a stemmer from the nltk library, which reduces words to their base or root form (e.g., \"running\" becomes \"run\"). \n",
    "\n",
    "The function returns a list of stemmed words that have been filtered and normalized, ready for further analysis or processing."
   ]
  },
  {
   "cell_type": "code",
   "execution_count": 109,
   "metadata": {},
   "outputs": [],
   "source": [
    "\n",
    "dirt=[']','_','[','(',')',':',';',\"''\",'{','}','<','>','/','\\\\','|','\\'','@','#','$','%','^','&','*','+','=','~','`','1','2','3','4','5','6','7','8','9','0','-']\n",
    "def dirtRemover(text):\n",
    "    text=text.replace('[^\\w\\s]','').replace('\\s\\s+', ' ')\n",
    "    text=re.sub(r'-?\\d+\\.\\d+', '', text)\n",
    "    text=re.sub('-?\\d+',' ',text)\n",
    "    text=re.sub(r'[^\\w\\s]','',text).replace(\"_\",\"\")\n",
    "    \n",
    "    # # POS tagging\n",
    "    words = nltk.word_tokenize(text)\n",
    "    pos_tags = nltk.pos_tag(words)\n",
    "    filtered_words = []\n",
    "    for word, pos_tag in pos_tags:\n",
    "        if pos_tag in ['NN', 'NNS']:\n",
    "            filtered_words.append(word.lower())\n",
    "\n",
    "    # Remove stop words and dirt words\n",
    "    filtered_words = [word for word in filtered_words if word not in stop_words]\n",
    "    filtered_words = [word for word in filtered_words if word not in dirt]\n",
    "\n",
    "    # Stemming\n",
    "    stemmed_tags = []\n",
    "    for tag in filtered_words:\n",
    "        if(len(tag)>3):\n",
    "            stemmed_tag = stemmer.stem(tag)\n",
    "            stemmed_tags.append(stemmed_tag)\n",
    "    return stemmed_tags\n"
   ]
  },
  {
   "cell_type": "code",
   "execution_count": 111,
   "metadata": {},
   "outputs": [],
   "source": [
    "data['TAGS']=data['TAGS'].apply(dirtRemover)"
   ]
  },
  {
   "cell_type": "code",
   "execution_count": 112,
   "metadata": {},
   "outputs": [],
   "source": [
    "data=data.drop(columns=['TITLE','BULLET_POINTS','DESCRIPTION','PRODUCT_ID','Unnamed: 0'],axis=1)"
   ]
  },
  {
   "cell_type": "code",
   "execution_count": 113,
   "metadata": {},
   "outputs": [],
   "source": [
    "data['TAGS'] = data['TAGS'].apply(lambda x: ' '.join(x))\n"
   ]
  },
  {
   "cell_type": "code",
   "execution_count": 114,
   "metadata": {},
   "outputs": [
    {
     "data": {
      "text/plain": [
       "<bound method NDFrame.head of       PRODUCT_TYPE_ID  PRODUCT_LENGTH  \\\n",
       "685              3302      500.000000   \n",
       "2733              104      500.000000   \n",
       "1572             6104      600.000000   \n",
       "1848            10192      580.000000   \n",
       "751             12064       59.055000   \n",
       "...               ...             ...   \n",
       "4375             6327      598.000000   \n",
       "4765             8501     3600.000000   \n",
       "839              8302     7199.999993   \n",
       "4152             1792      700.000000   \n",
       "3290             2867      590.551180   \n",
       "\n",
       "                                                   TAGS  \n",
       "685   skecher goal getter slip sneaker solecross tra...  \n",
       "2733                                  etern captiv book  \n",
       "1572                                               heir  \n",
       "1848  hickori hardwar inch mapl type mapl transition...  \n",
       "751   case creation leather case samsung note samsun...  \n",
       "...                                                 ...  \n",
       "4375                                               bodi  \n",
       "4765  madcap cottag highland scotch pleas area gingh...  \n",
       "839   wood furnitur sheesham wood platform size bedr...  \n",
       "4152  feet meter speed hdmi cabl male ethernet retur...  \n",
       "3290  vinci button suit htburgundi vinci feel button...  \n",
       "\n",
       "[5000 rows x 3 columns]>"
      ]
     },
     "execution_count": 114,
     "metadata": {},
     "output_type": "execute_result"
    }
   ],
   "source": [
    "data.head"
   ]
  },
  {
   "cell_type": "code",
   "execution_count": 118,
   "metadata": {},
   "outputs": [
    {
     "name": "stdout",
     "output_type": "stream",
     "text": [
      "Training MSE: 467.562626139965\n",
      "Testing MSE: 163214475.931902\n"
     ]
    }
   ],
   "source": [
    "\n",
    "from sklearn.metrics import mean_squared_error\n",
    "from sklearn.model_selection import train_test_split\n",
    "\n",
    "X = data['TAGS']\n",
    "y = data['PRODUCT_LENGTH']\n",
    "X_train, X_test, y_train, y_test = train_test_split(X, y, test_size=0.2, random_state=0)\n",
    "# Convert tags to vectors using CountVectorizer\n",
    "\n",
    "cv = CountVectorizer(max_features=50000, stop_words='english')\n",
    "X_train_vectors = cv.fit_transform(X_train)\n",
    "X_test_vectors = cv.transform(X_test)\n",
    "\n",
    "# Train a linear regression model\n",
    "model = LinearRegression()\n",
    "model.fit(X_train_vectors, y_train)\n",
    "\n",
    "# Evaluate model on training set\n",
    "y_train_pred = model.predict(X_train_vectors)\n",
    "mse_train = mean_squared_error(y_train, y_train_pred)\n",
    "print('Training MSE:', mse_train)\n",
    "\n",
    "# Evaluate model on testing set\n",
    "y_test_pred = model.predict(X_test_vectors)\n",
    "mse_test = mean_squared_error(y_test, y_test_pred)\n",
    "print('Testing MSE:', mse_test)"
   ]
  },
  {
   "cell_type": "code",
   "execution_count": 119,
   "metadata": {},
   "outputs": [],
   "source": [
    "from sklearn.model_selection import train_test_split\n",
    "from sklearn.metrics import mean_squared_error\n"
   ]
  },
  {
   "attachments": {},
   "cell_type": "markdown",
   "metadata": {},
   "source": [
    "This code uses the `CountVectorizer` class from the `sklearn.feature_extraction.text` module to convert a collection of text documents (stored in the `TAGS` column of the `data` dataframe) into a matrix of token counts. The resulting matrix contains a row for each document and a column for each unique word in the corpus. The `max_features` parameter sets the maximum number of features (i.e., words) to be included in the matrix, and the `stop_words` parameter specifies that English stop words (common words that are usually removed in text analysis) should be excluded from the matrix.\n",
    "\n",
    "The `fit_transform()` method of the `CountVectorizer` class is used to transform the text data into a matrix of token counts, and the resulting matrix is converted to a 2D numpy array using the `toarray()` method.\n",
    "\n",
    "Next, the `cosine_similarity` function from the `sklearn.metrics.pairwise` module is used to calculate the cosine similarity between each pair of documents in the dataset. Cosine similarity is a measure of similarity between two non-zero vectors of an inner product space that measures the cosine of the angle between them. In the context of text analysis, cosine similarity is often used to measure the similarity between two documents based on the similarity of their word usage.\n",
    "\n",
    "The resulting similarity matrix is a 2D numpy array, where each element (i, j) represents the cosine similarity between document i and document j.\n",
    "\n",
    "Finally, the code sorts the similarity scores for the first document (i.e., document 0) in descending order using the `sorted()` function. The `enumerate()` function is used to add an index to each similarity score, so that the resulting list contains pairs of (index, similarity_score) for the first document. The `reverse=True` parameter ensures that the scores are sorted in descending order, and the `key` parameter specifies that the sorting should be based on the similarity score (i.e., the second element of each pair). The resulting list `index_similar` contains the indices of the most similar documents to the first document, along with their similarity scores."
   ]
  },
  {
   "cell_type": "code",
   "execution_count": 130,
   "metadata": {},
   "outputs": [],
   "source": [
    "from sklearn.feature_extraction.text import CountVectorizer\n",
    "cv=CountVectorizer(max_features=50000,stop_words='english')\n",
    "vectors=cv.fit_transform(data['TAGS']).toarray()\n",
    "\n",
    "from sklearn.metrics.pairwise import cosine_similarity\n",
    "similarity=cosine_similarity(vectors)\n",
    "\n",
    "index_similar=sorted(list(enumerate(similarity[0])),reverse=True,key=lambda x:x[1]) # It show the similarity of the Product with other Product\n"
   ]
  },
  {
   "cell_type": "code",
   "execution_count": 131,
   "metadata": {},
   "outputs": [
    {
     "data": {
      "text/plain": [
       "[(0, 1.0000000000000002),\n",
       " (1567, 0.408248290463863),\n",
       " (3184, 0.37727763894540683),\n",
       " (1039, 0.3343239249178658),\n",
       " (2070, 0.3333333333333333)]"
      ]
     },
     "execution_count": 131,
     "metadata": {},
     "output_type": "execute_result"
    }
   ],
   "source": [
    "index_similar[0:5]  # first one similar to itself and then other similar product_length so we need to consider from 2 onwards"
   ]
  },
  {
   "cell_type": "code",
   "execution_count": 132,
   "metadata": {},
   "outputs": [],
   "source": [
    "index=[]\n",
    "for i in index_similar:\n",
    "    index.append(i[0])\n",
    "    "
   ]
  },
  {
   "cell_type": "code",
   "execution_count": 133,
   "metadata": {},
   "outputs": [],
   "source": [
    "index=np.array(index)"
   ]
  },
  {
   "cell_type": "code",
   "execution_count": 134,
   "metadata": {},
   "outputs": [
    {
     "data": {
      "text/plain": [
       "array([1567, 3184, 1039, ..., 4996, 4998, 4999])"
      ]
     },
     "execution_count": 134,
     "metadata": {},
     "output_type": "execute_result"
    }
   ],
   "source": [
    "index[1:]  # sorted index of according to similarity"
   ]
  },
  {
   "cell_type": "code",
   "execution_count": 135,
   "metadata": {},
   "outputs": [
    {
     "data": {
      "text/plain": [
       "104     1181.102361\n",
       "649      900.000000\n",
       "2366     500.000000\n",
       "4575     787.000000\n",
       "1806    1000.000000\n",
       "           ...     \n",
       "4289     393.700787\n",
       "4375     598.000000\n",
       "4765    3600.000000\n",
       "4152     700.000000\n",
       "3290     590.551180\n",
       "Name: PRODUCT_LENGTH, Length: 4999, dtype: float64"
      ]
     },
     "execution_count": 135,
     "metadata": {},
     "output_type": "execute_result"
    }
   ],
   "source": [
    "data.iloc[index]['PRODUCT_LENGTH'][1:]\n",
    "# sorted Product length according to similarity  and then we can the first or the avg of first two product length to predict for the test data"
   ]
  },
  {
   "cell_type": "code",
   "execution_count": 136,
   "metadata": {},
   "outputs": [],
   "source": [
    "prediction=data.iloc[index]['PRODUCT_LENGTH'][1:3].mean()\n"
   ]
  },
  {
   "cell_type": "code",
   "execution_count": 137,
   "metadata": {},
   "outputs": [],
   "source": [
    "actual=data['PRODUCT_LENGTH'][0]"
   ]
  },
  {
   "cell_type": "code",
   "execution_count": 138,
   "metadata": {},
   "outputs": [
    {
     "data": {
      "text/plain": [
       "535.432"
      ]
     },
     "execution_count": 138,
     "metadata": {},
     "output_type": "execute_result"
    }
   ],
   "source": [
    "actual"
   ]
  },
  {
   "cell_type": "code",
   "execution_count": 139,
   "metadata": {},
   "outputs": [
    {
     "data": {
      "text/plain": [
       "1040.5511805"
      ]
     },
     "execution_count": 139,
     "metadata": {},
     "output_type": "execute_result"
    }
   ],
   "source": [
    "prediction"
   ]
  },
  {
   "cell_type": "code",
   "execution_count": null,
   "metadata": {},
   "outputs": [],
   "source": []
  }
 ],
 "metadata": {
  "kernelspec": {
   "display_name": "base",
   "language": "python",
   "name": "python3"
  },
  "language_info": {
   "codemirror_mode": {
    "name": "ipython",
    "version": 3
   },
   "file_extension": ".py",
   "mimetype": "text/x-python",
   "name": "python",
   "nbconvert_exporter": "python",
   "pygments_lexer": "ipython3",
   "version": "3.8.8"
  },
  "orig_nbformat": 4
 },
 "nbformat": 4,
 "nbformat_minor": 2
}
